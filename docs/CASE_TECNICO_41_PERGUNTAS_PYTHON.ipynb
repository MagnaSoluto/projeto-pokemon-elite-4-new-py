{
  "cells": [
    {
      "cell_type": "markdown",
      "metadata": {},
      "source": [
        "# 📊 Case Técnico - Análise de Dados em Python\n",
        "\n",
        "**MBA em Engenharia de Dados**  \n",
        "**Projeto Pokémon Elite dos 4**  \n",
        "**Migração de R para Python**\n",
        "\n",
        "---\n",
        "\n",
        "Este notebook responde às 41 perguntas do case técnico utilizando Python e o dataset de Pokémon da primeira geração."
      ]
    },
    {
      "cell_type": "markdown",
      "metadata": {},
      "source": [
        "## 📚 Importações e Configurações"
      ]
    },
    {
      "cell_type": "code",
      "execution_count": null,
      "metadata": {},
      "outputs": [],
      "source": [
        "# Importações necessárias\n",
        "import pandas as pd\n",
        "import numpy as np\n",
        "import matplotlib.pyplot as plt\n",
        "import seaborn as sns\n",
        "from pathlib import Path\n",
        "import warnings\n",
        "warnings.filterwarnings('ignore')\n",
        "\n",
        "# Configurações de visualização\n",
        "plt.style.use('seaborn-v0_8')\n",
        "sns.set_palette(\"husl\")\n",
        "plt.rcParams['figure.figsize'] = (12, 8)\n",
        "plt.rcParams['font.size'] = 10\n",
        "\n",
        "print(\"✅ Bibliotecas importadas com sucesso!\")"
      ]
    },
    {
      "cell_type": "markdown",
      "metadata": {},
      "source": [
        "## 1️⃣ Pergunta 1: Importe o seu dataset para o Python"
      ]
    },
    {
      "cell_type": "code",
      "execution_count": null,
      "metadata": {},
      "outputs": [],
      "source": [
        "# Carregando o dataset principal de Pokémon\n",
        "pokemon_data = pd.read_csv('data/pokemon_data.csv')\n",
        "print(\"✅ Dataset carregado com sucesso!\")\n",
        "print(f\"📊 Dimensões: {pokemon_data.shape}\")"
      ]
    },
    {
      "cell_type": "markdown",
      "metadata": {},
      "source": [
        "## 2️⃣ Pergunta 2: Contextualize o problema de negócio\n",
        "\n",
        "**Problema de Negócio:**\n",
        "\n",
        "No universo dos jogos Pokémon, treinadores enfrentam o desafio de montar a equipe mais eficaz para vencer a Elite dos 4, o grupo de treinadores mais poderosos do jogo. O problema central é:\n",
        "\n",
        "- **Qual é o melhor sexteto de Pokémon e em qual nível para vencer a Elite dos 4?**\n",
        "- Como otimizar a seleção considerando tipos, estatísticas e sinergias?\n",
        "- Quais estratégias maximizam a taxa de vitória contra cada membro?\n",
        "\n",
        "Este é um problema de **otimização combinatória complexa** que envolve:\n",
        "- 151 Pokémon disponíveis\n",
        "- 6 slots na equipe\n",
        "- 5 membros da Elite dos 4\n",
        "- Múltiplos critérios de otimização"
      ]
    },
    {
      "cell_type": "markdown",
      "metadata": {},
      "source": [
        "## 3️⃣ Pergunta 3: Contextualize a solução do pipeline\n",
        "\n",
        "**Solução do Pipeline:**\n",
        "\n",
        "O pipeline desenvolvido resolve o problema através de:\n",
        "\n",
        "1. **Análise Exploratória**: Compreensão dos dados e padrões\n",
        "2. **Modelagem Estatística**: Predição de eficiência dos Pokémon\n",
        "3. **Otimização Genética**: Encontrar o sexteto ótimo\n",
        "4. **Simulação de Batalhas**: Validação com sistema realista GBA\n",
        "5. **Análise de Performance**: Métricas de vitória e estratégias\n",
        "\n",
        "**Resultado Alcançado:** 93% de taxa de vitória contra Elite dos 4!"
      ]
    },
    {
      "cell_type": "markdown",
      "metadata": {},
      "source": [
        "## 4️⃣ Pergunta 4: Verifique as primeiras 6 linhas do dataset"
      ]
    },
    {
      "cell_type": "code",
      "execution_count": null,
      "metadata": {},
      "outputs": [],
      "source": [
        "# Primeiras 6 linhas\n",
        "print(\"🔍 Primeiras 6 linhas do dataset:\")\n",
        "pokemon_data.head(6)"
      ]
    },
    {
      "cell_type": "markdown",
      "metadata": {},
      "source": [
        "## 5️⃣ Pergunta 5: Verifique as últimas 10 linhas do dataset"
      ]
    },
    {
      "cell_type": "code",
      "execution_count": null,
      "metadata": {},
      "outputs": [],
      "source": [
        "# Últimas 10 linhas\n",
        "print(\"🔍 Últimas 10 linhas do dataset:\")\n",
        "pokemon_data.tail(10)"
      ]
    },
    {
      "cell_type": "markdown",
      "metadata": {},
      "source": [
        "## 6️⃣ Pergunta 6: Mostre a quantidade de linhas e colunas"
      ]
    },
    {
      "cell_type": "code",
      "execution_count": null,
      "metadata": {},
      "outputs": [],
      "source": [
        "# Dimensões do dataset\n",
        "linhas, colunas = pokemon_data.shape\n",
        "print(f\"📊 Dataset possui {linhas} linhas e {colunas} colunas\")\n",
        "print(f\"📊 Dimensões: {pokemon_data.shape}\")"
      ]
    },
    {
      "cell_type": "markdown",
      "metadata": {},
      "source": [
        "## 7️⃣ Pergunta 7: Exiba apenas os nomes das colunas"
      ]
    },
    {
      "cell_type": "code",
      "execution_count": null,
      "metadata": {},
      "outputs": [],
      "source": [
        "# Nomes das colunas\n",
        "print(\"📋 Nomes das colunas do dataset:\")\n",
        "for i, col in enumerate(pokemon_data.columns, 1):\n",
        "    print(f\"{i:2d}. {col}\")"
      ]
    },
    {
      "cell_type": "markdown",
      "metadata": {},
      "source": [
        "## 8️⃣ Pergunta 8: Descreva as principais variáveis\n",
        "\n",
        "**Principais Variáveis do Dataset:**\n",
        "\n",
        "**Identificadores:**\n",
        "- `id`: ID único do Pokémon (1-151)\n",
        "- `name`: Nome do Pokémon\n",
        "\n",
        "**Tipos:**\n",
        "- `type1`: Tipo primário (categórica)\n",
        "- `type2`: Tipo secundário (categórica, pode ser nulo)\n",
        "\n",
        "**Estatísticas de Batalha (numéricas):**\n",
        "- `hp`: Pontos de vida\n",
        "- `attack`: Ataque físico\n",
        "- `defense`: Defesa física\n",
        "- `sp_attack`: Ataque especial\n",
        "- `sp_defense`: Defesa especial\n",
        "- `speed`: Velocidade\n",
        "- `total`: Soma total das estatísticas\n",
        "\n",
        "**Metadados:**\n",
        "- `generation`: Geração (todas = 1)"
      ]
    },
    {
      "cell_type": "markdown",
      "metadata": {},
      "source": [
        "## 9️⃣ Pergunta 9: Verifique e ajuste os tipos das colunas"
      ]
    },
    {
      "cell_type": "code",
      "execution_count": null,
      "metadata": {},
      "outputs": [],
      "source": [
        "# Verificar tipos atuais\n",
        "print(\"🔍 Tipos atuais das colunas:\")\n",
        "print(pokemon_data.dtypes)\n",
        "print(\"\\n\" + \"=\"*50 + \"\\n\")\n",
        "\n",
        "# Ajustar tipos\n",
        "pokemon_data['type1'] = pokemon_data['type1'].astype('category')\n",
        "pokemon_data['type2'] = pokemon_data['type2'].astype('category')\n",
        "pokemon_data['generation'] = pokemon_data['generation'].astype('category')\n",
        "\n",
        "print(\"✅ Tipos ajustados:\")\n",
        "print(pokemon_data.dtypes)"
      ]
    },
    {
      "cell_type": "markdown",
      "metadata": {},
      "source": [
        "## 🔟 Pergunta 10: Selecione apenas duas colunas"
      ]
    },
    {
      "cell_type": "code",
      "execution_count": null,
      "metadata": {},
      "outputs": [],
      "source": [
        "# Selecionando duas colunas: name e total\n",
        "duas_colunas = pokemon_data[['name', 'total']]\n",
        "print(\"📋 Duas colunas selecionadas (name e total):\")\n",
        "duas_colunas.head(10)"
      ]
    },
    {
      "cell_type": "markdown",
      "metadata": {},
      "source": [
        "## 1️⃣1️⃣ Pergunta 11: Filtre linhas onde uma variável numérica seja maior que um valor"
      ]
    },
    {
      "cell_type": "code",
      "execution_count": null,
      "metadata": {},
      "outputs": [],
      "source": [
        "# Filtrar Pokémon com total > 500 (Pokémon fortes)\n",
        "pokemon_fortes = pokemon_data[pokemon_data['total'] > 500]\n",
        "print(f\"🔥 Pokémon com total > 500: {len(pokemon_fortes)} Pokémon\")\n",
        "pokemon_fortes[['name', 'total', 'type1', 'type2']].head(10)"
      ]
    },
    {
      "cell_type": "markdown",
      "metadata": {},
      "source": [
        "## 1️⃣2️⃣ Pergunta 12: Ordene o dataset de forma crescente por uma coluna numérica"
      ]
    },
    {
      "cell_type": "code",
      "execution_count": null,
      "metadata": {},
      "outputs": [],
      "source": [
        "# Ordenar por total (crescente)\n",
        "pokemon_ordenado = pokemon_data.sort_values('total')\n",
        "print(\"📈 Pokémon ordenados por total (crescente):\")\n",
        "pokemon_ordenado[['name', 'total']].head(10)"
      ]
    },
    {
      "cell_type": "markdown",
      "metadata": {},
      "source": [
        "## 1️⃣3️⃣ Pergunta 13: Crie uma nova coluna com base em operação entre duas colunas"
      ]
    },
    {
      "cell_type": "code",
      "execution_count": null,
      "metadata": {},
      "outputs": [],
      "source": [
        "# Criar coluna de eficiência (total / 600)\n",
        "pokemon_data['efficiency'] = pokemon_data['total'] / 600\n",
        "print(\"✅ Nova coluna 'efficiency' criada (total / 600)\")\n",
        "print(\"📊 Primeiros 10 valores:\")\n",
        "pokemon_data[['name', 'total', 'efficiency']].head(10)"
      ]
    },
    {
      "cell_type": "markdown",
      "metadata": {},
      "source": [
        "## 1️⃣4️⃣ Pergunta 14: Remova uma coluna do dataset"
      ]
    },
    {
      "cell_type": "code",
      "execution_count": null,
      "metadata": {},
      "outputs": [],
      "source": [
        "# Remover coluna 'generation' (não é necessária para análise)\n",
        "pokemon_data_sem_gen = pokemon_data.drop('generation', axis=1)\n",
        "print(\"🗑️ Coluna 'generation' removida\")\n",
        "print(f\"📊 Novas dimensões: {pokemon_data_sem_gen.shape}\")\n",
        "print(\"📋 Colunas restantes:\")\n",
        "print(list(pokemon_data_sem_gen.columns))"
      ]
    },
    {
      "cell_type": "markdown",
      "metadata": {},
      "source": [
        "## 1️⃣5️⃣ Pergunta 15: Use select() para escolher 3 colunas"
      ]
    },
    {
      "cell_type": "code",
      "execution_count": null,
      "metadata": {},
      "outputs": [],
      "source": [
        "# Selecionar 3 colunas usando iloc\n",
        "tres_colunas = pokemon_data.iloc[:, [1, 2, 3]]  # name, type1, type2\n",
        "print(\"📋 Três colunas selecionadas (name, type1, type2):\")\n",
        "tres_colunas.head(10)"
      ]
    },
    {
      "cell_type": "markdown",
      "metadata": {},
      "source": [
        "## 1️⃣6️⃣ Pergunta 16: Use filter() para selecionar linhas que atendam uma condição"
      ]
    },
    {
      "cell_type": "code",
      "execution_count": null,
      "metadata": {},
      "outputs": [],
      "source": [
        "# Filtrar Pokémon do tipo Fire\n",
        "pokemon_fire = pokemon_data[pokemon_data['type1'] == 'Fire']\n",
        "print(f\"🔥 Pokémon do tipo Fire: {len(pokemon_fire)} Pokémon\")\n",
        "pokemon_fire[['name', 'type1', 'type2', 'total']].head(10)"
      ]
    },
    {
      "cell_type": "markdown",
      "metadata": {},
      "source": [
        "## 1️⃣7️⃣ Pergunta 17: Selecione colunas que começam com uma letra específica"
      ]
    },
    {
      "cell_type": "code",
      "execution_count": null,
      "metadata": {},
      "outputs": [],
      "source": [
        "# Selecionar colunas que começam com 'sp' (sp_attack, sp_defense)\n",
        "colunas_sp = pokemon_data.loc[:, pokemon_data.columns.str.startswith('sp')]\n",
        "print(\"📋 Colunas que começam com 'sp':\")\n",
        "print(list(colunas_sp.columns))\n",
        "colunas_sp.head(10)"
      ]
    },
    {
      "cell_type": "markdown",
      "metadata": {},
      "source": [
        "## 1️⃣8️⃣ Pergunta 18: Renomeie duas colunas usando rename()"
      ]
    },
    {
      "cell_type": "code",
      "execution_count": null,
      "metadata": {},
      "outputs": [],
      "source": [
        "# Renomear colunas\n",
        "pokemon_renomeado = pokemon_data.rename(columns={'sp_attack': 'special_attack', 'sp_defense': 'special_defense'})\n",
        "print(\"✅ Colunas renomeadas:\")\n",
        "print(\"- sp_attack → special_attack\")\n",
        "print(\"- sp_defense → special_defense\")\n",
        "print(\"\\n📋 Primeiras 5 linhas com colunas renomeadas:\")\n",
        "pokemon_renomeado[['name', 'special_attack', 'special_defense']].head()"
      ]
    },
    {
      "cell_type": "markdown",
      "metadata": {},
      "source": [
        "## 1️⃣9️⃣ Pergunta 19: Use arrange() para ordenar dados de forma decrescente"
      ]
    },
    {
      "cell_type": "code",
      "execution_count": null,
      "metadata": {},
      "outputs": [],
      "source": [
        "# Ordenar por total (decrescente)\n",
        "pokemon_decrescente = pokemon_data.sort_values('total', ascending=False)\n",
        "print(\"📉 Pokémon ordenados por total (decrescente):\")\n",
        "pokemon_decrescente[['name', 'total']].head(10)"
      ]
    },
    {
      "cell_type": "markdown",
      "metadata": {},
      "source": [
        "## 2️⃣0️⃣ Pergunta 20: Crie uma nova coluna com mutate()"
      ]
    },
    {
      "cell_type": "code",
      "execution_count": null,
      "metadata": {},
      "outputs": [],
      "source": [
        "# Criar coluna de poder de ataque (attack + sp_attack)\n",
        "pokemon_data['attack_power'] = pokemon_data['attack'] + pokemon_data['sp_attack']\n",
        "print(\"✅ Nova coluna 'attack_power' criada (attack + sp_attack)\")\n",
        "print(\"📊 Primeiros 10 valores:\")\n",
        "pokemon_data[['name', 'attack', 'sp_attack', 'attack_power']].head(10)"
      ]
    },
    {
      "cell_type": "markdown",
      "metadata": {},
      "source": [
        "## 2️⃣1️⃣ Pergunta 21: Resuma dados de uma coluna numérica usando summarise()"
      ]
    },
    {
      "cell_type": "code",
      "execution_count": null,
      "metadata": {},
      "outputs": [],
      "source": [
        "# Resumo estatístico da coluna 'total'\n",
        "resumo_total = pokemon_data['total'].describe()\n",
        "print(\"📊 Resumo estatístico da coluna 'total':\")\n",
        "print(resumo_total)"
      ]
    },
    {
      "cell_type": "markdown",
      "metadata": {},
      "source": [
        "## 2️⃣2️⃣ Pergunta 22: Agrupe dados por uma variável categórica"
      ]
    },
    {
      "cell_type": "code",
      "execution_count": null,
      "metadata": {},
      "outputs": [],
      "source": [
        "# Agrupar por tipo primário\n",
        "grupo_tipo = pokemon_data.groupby('type1')\n",
        "print(\"📊 Dados agrupados por tipo primário:\")\n",
        "print(f\"Número de grupos: {len(grupo_tipo)}\")\n",
        "print(\"\\nTipos únicos:\")\n",
        "print(list(grupo_tipo.groups.keys()))"
      ]
    },
    {
      "cell_type": "markdown",
      "metadata": {},
      "source": [
        "## 2️⃣3️⃣ Pergunta 23: Combine group_by() e summarise() para calcular média por grupo"
      ]
    },
    {
      "cell_type": "code",
      "execution_count": null,
      "metadata": {},
      "outputs": [],
      "source": [
        "# Média de total por tipo primário\n",
        "media_por_tipo = pokemon_data.groupby('type1')['total'].mean().sort_values(ascending=False)\n",
        "print(\"📊 Média de total por tipo primário:\")\n",
        "print(media_por_tipo.head(10))"
      ]
    },
    {
      "cell_type": "markdown",
      "metadata": {},
      "source": [
        "## 2️⃣4️⃣ Pergunta 24: Use pivot_longer() para transformar colunas em linhas"
      ]
    },
    {
      "cell_type": "code",
      "execution_count": null,
      "metadata": {},
      "outputs": [],
      "source": [
        "# Transformar colunas de estatísticas em linhas\n",
        "stats_cols = ['hp', 'attack', 'defense', 'sp_attack', 'sp_defense', 'speed']\n",
        "pokemon_long = pokemon_data.melt(\n",
        "    id_vars=['name', 'type1'],\n",
        "    value_vars=stats_cols,\n",
        "    var_name='statistic',\n",
        "    value_name='value'\n",
        ")\n",
        "print(\"📊 Dados transformados (wide to long):\")\n",
        "print(f\"Dimensões: {pokemon_long.shape}\")\n",
        "pokemon_long.head(10)"
      ]
    },
    {
      "cell_type": "markdown",
      "metadata": {},
      "source": [
        "## 2️⃣5️⃣ Pergunta 25: Use pipeline para selecionar, filtrar e ordenar"
      ]
    },
    {
      "cell_type": "code",
      "execution_count": null,
      "metadata": {},
      "outputs": [],
      "source": [
        "# Pipeline: selecionar, filtrar e ordenar\n",
        "pipeline_result = (pokemon_data\n",
        "    .loc[:, ['name', 'type1', 'total']]  # Selecionar colunas\n",
        "    .query('total > 500')  # Filtrar\n",
        "    .sort_values('total', ascending=False)  # Ordenar\n",
        ")\n",
        "print(\"🔄 Resultado do pipeline:\")\n",
        "print(f\"Pokémon com total > 500: {len(pipeline_result)}\")\n",
        "pipeline_result.head(10)"
      ]
    },
    {
      "cell_type": "markdown",
      "metadata": {},
      "source": [
        "## 2️⃣6️⃣ Pergunta 26: Use pivot_wider() para transformar linhas em colunas"
      ]
    },
    {
      "cell_type": "code",
      "execution_count": null,
      "metadata": {},
      "outputs": [],
      "source": [
        "# Transformar long para wide\n",
        "pokemon_wide = pokemon_long.pivot_table(\n",
        "    index='name',\n",
        "    columns='statistic',\n",
        "    values='value',\n",
        "    fill_value=0\n",
        ").reset_index()\n",
        "print(\"📊 Dados transformados (long to wide):\")\n",
        "print(f\"Dimensões: {pokemon_wide.shape}\")\n",
        "pokemon_wide.head()"
      ]
    },
    {
      "cell_type": "markdown",
      "metadata": {},
      "source": [
        "## 2️⃣7️⃣ Pergunta 27: Aplique drop_na() para remover valores ausentes"
      ]
    },
    {
      "cell_type": "code",
      "execution_count": null,
      "metadata": {},
      "outputs": [],
      "source": [
        "# Remover linhas com valores ausentes\n",
        "pokemon_sem_na = pokemon_data.dropna()\n",
        "print(f\"📊 Linhas originais: {len(pokemon_data)}\")\n",
        "print(f\"📊 Linhas após drop_na(): {len(pokemon_sem_na)}\")\n",
        "print(f\"📊 Valores ausentes removidos: {len(pokemon_data) - len(pokemon_sem_na)}\")"
      ]
    },
    {
      "cell_type": "markdown",
      "metadata": {},
      "source": [
        "## 2️⃣8️⃣ Pergunta 28: Substitua valores ausentes por 0 em coluna numérica"
      ]
    },
    {
      "cell_type": "code",
      "execution_count": null,
      "metadata": {},
      "outputs": [],
      "source": [
        "# Substituir valores ausentes por 0\n",
        "pokemon_data_filled = pokemon_data.copy()\n",
        "pokemon_data_filled['type2'] = pokemon_data_filled['type2'].fillna('None')\n",
        "print(\"✅ Valores ausentes em 'type2' substituídos por 'None'\")\n",
        "print(f\"📊 Valores únicos em type2: {pokemon_data_filled['type2'].nunique()}\")"
      ]
    },
    {
      "cell_type": "markdown",
      "metadata": {},
      "source": [
        "## 2️⃣9️⃣ Pergunta 29: Crie gráfico de dispersão com duas variáveis numéricas"
      ]
    },
    {
      "cell_type": "code",
      "execution_count": null,
      "metadata": {},
      "outputs": [],
      "source": [
        "# Gráfico de dispersão: attack vs sp_attack\n",
        "plt.figure(figsize=(10, 6))\n",
        "plt.scatter(pokemon_data['attack'], pokemon_data['sp_attack'], alpha=0.6)\n",
        "plt.xlabel('Attack')\n",
        "plt.ylabel('Special Attack')\n",
        "plt.title('Gráfico de Dispersão: Attack vs Special Attack')\n",
        "plt.grid(True, alpha=0.3)\n",
        "plt.show()"
      ]
    },
    {
      "cell_type": "markdown",
      "metadata": {},
      "source": [
        "## 3️⃣0️⃣ Pergunta 30: Crie gráfico de barras de uma variável categórica"
      ]
    },
    {
      "cell_type": "code",
      "execution_count": null,
      "metadata": {},
      "outputs": [],
      "source": [
        "# Gráfico de barras: contagem por tipo primário\n",
        "plt.figure(figsize=(12, 6))\n",
        "pokemon_data['type1'].value_counts().plot(kind='bar')\n",
        "plt.xlabel('Tipo Primário')\n",
        "plt.ylabel('Quantidade')\n",
        "plt.title('Distribuição de Pokémon por Tipo Primário')\n",
        "plt.xticks(rotation=45)\n",
        "plt.tight_layout()\n",
        "plt.show()"
      ]
    },
    {
      "cell_type": "markdown",
      "metadata": {},
      "source": [
        "## 3️⃣1️⃣ Pergunta 31: Construa histograma de uma variável numérica"
      ]
    },
    {
      "cell_type": "code",
      "execution_count": null,
      "metadata": {},
      "outputs": [],
      "source": [
        "# Histograma da coluna 'total'\n",
        "plt.figure(figsize=(10, 6))\n",
        "plt.hist(pokemon_data['total'], bins=20, alpha=0.7, edgecolor='black')\n",
        "plt.xlabel('Total de Estatísticas')\n",
        "plt.ylabel('Frequência')\n",
        "plt.title('Distribuição do Total de Estatísticas dos Pokémon')\n",
        "plt.grid(True, alpha=0.3)\n",
        "plt.show()"
      ]
    },
    {
      "cell_type": "markdown",
      "metadata": {},
      "source": [
        "## 3️⃣2️⃣ Pergunta 32: Crie gráfico de linha para evolução de variável ao longo do tempo"
      ]
    },
    {
      "cell_type": "code",
      "execution_count": null,
      "metadata": {},
      "outputs": [],
      "source": [
        "# Gráfico de linha: evolução do total por ID (simulando tempo)\n",
        "plt.figure(figsize=(12, 6))\n",
        "pokemon_ordenado = pokemon_data.sort_values('id')\n",
        "plt.plot(pokemon_ordenado['id'], pokemon_ordenado['total'], linewidth=2)\n",
        "plt.xlabel('ID do Pokémon')\n",
        "plt.ylabel('Total de Estatísticas')\n",
        "plt.title('Evolução do Total de Estatísticas por ID')\n",
        "plt.grid(True, alpha=0.3)\n",
        "plt.show()"
      ]
    },
    {
      "cell_type": "markdown",
      "metadata": {},
      "source": [
        "## 3️⃣3️⃣ Pergunta 33: Adicione linha de tendência a gráfico de dispersão"
      ]
    },
    {
      "cell_type": "code",
      "execution_count": null,
      "metadata": {},
      "outputs": [],
      "source": [
        "# Gráfico de dispersão com linha de tendência\n",
        "plt.figure(figsize=(10, 6))\n",
        "plt.scatter(pokemon_data['attack'], pokemon_data['sp_attack'], alpha=0.6)\n",
        "\n",
        "# Adicionar linha de tendência\n",
        "z = np.polyfit(pokemon_data['attack'], pokemon_data['sp_attack'], 1)\n",
        "p = np.poly1d(z)\n",
        "plt.plot(pokemon_data['attack'], p(pokemon_data['attack']), \"r--\", alpha=0.8)\n",
        "\n",
        "plt.xlabel('Attack')\n",
        "plt.ylabel('Special Attack')\n",
        "plt.title('Attack vs Special Attack com Linha de Tendência')\n",
        "plt.grid(True, alpha=0.3)\n",
        "plt.show()"
      ]
    },
    {
      "cell_type": "markdown",
      "metadata": {},
      "source": [
        "## 3️⃣4️⃣ Pergunta 34: Crie boxplot para comparar distribuição entre categorias"
      ]
    },
    {
      "cell_type": "code",
      "execution_count": null,
      "metadata": {},
      "outputs": [],
      "source": [
        "# Boxplot: total por tipo primário\n",
        "plt.figure(figsize=(14, 8))\n",
        "pokemon_data.boxplot(column='total', by='type1', ax=plt.gca())\n",
        "plt.xlabel('Tipo Primário')\n",
        "plt.ylabel('Total de Estatísticas')\n",
        "plt.title('Distribuição do Total por Tipo Primário')\n",
        "plt.xticks(rotation=45)\n",
        "plt.tight_layout()\n",
        "plt.show()"
      ]
    },
    {
      "cell_type": "markdown",
      "metadata": {},
      "source": [
        "## 3️⃣5️⃣ Pergunta 35: Personalize gráfico com título, legenda e rótulos"
      ]
    },
    {
      "cell_type": "code",
      "execution_count": null,
      "metadata": {},
      "outputs": [],
      "source": [
        "# Gráfico personalizado\n",
        "plt.figure(figsize=(12, 8))\n",
        "\n",
        "# Dados para o gráfico\n",
        "tipos = pokemon_data['type1'].value_counts().head(8)\n",
        "cores = plt.cm.Set3(np.linspace(0, 1, len(tipos)))\n",
        "\n",
        "bars = plt.bar(range(len(tipos)), tipos.values, color=cores)\n",
        "\n",
        "# Personalização\n",
        "plt.title('Top 8 Tipos de Pokémon por Quantidade', fontsize=16, fontweight='bold')\n",
        "plt.xlabel('Tipo Primário', fontsize=12)\n",
        "plt.ylabel('Número de Pokémon', fontsize=12)\n",
        "plt.xticks(range(len(tipos)), tipos.index, rotation=45)\n",
        "\n",
        "# Adicionar valores nas barras\n",
        "for i, bar in enumerate(bars):\n",
        "    height = bar.get_height()\n",
        "    plt.text(bar.get_x() + bar.get_width()/2., height + 0.1,\n",
        "             f'{int(height)}', ha='center', va='bottom')\n",
        "\n",
        "plt.grid(True, alpha=0.3, axis='y')\n",
        "plt.tight_layout()\n",
        "plt.show()"
      ]
    },
    {
      "cell_type": "markdown",
      "metadata": {},
      "source": [
        "## 3️⃣6️⃣ Pergunta 36: Crie mapa de calor com duas variáveis categóricas"
      ]
    },
    {
      "cell_type": "code",
      "execution_count": null,
      "metadata": {},
      "outputs": [],
      "source": [
        "# Mapa de calor: type1 vs type2\n",
        "heatmap_data = pokemon_data.groupby(['type1', 'type2']).size().unstack(fill_value=0)\n",
        "\n",
        "plt.figure(figsize=(14, 10))\n",
        "sns.heatmap(heatmap_data, annot=True, fmt='d', cmap='YlOrRd')\n",
        "plt.title('Mapa de Calor: Combinações de Tipos Primário e Secundário', fontsize=14)\n",
        "plt.xlabel('Tipo Secundário')\n",
        "plt.ylabel('Tipo Primário')\n",
        "plt.tight_layout()\n",
        "plt.show()"
      ]
    },
    {
      "cell_type": "markdown",
      "metadata": {},
      "source": [
        "## 3️⃣7️⃣ Pergunta 37: Combine gráficos usando facet_wrap()"
      ]
    },
    {
      "cell_type": "code",
      "execution_count": null,
      "metadata": {},
      "outputs": [],
      "source": [
        "# Múltiplos gráficos usando subplots\n",
        "fig, axes = plt.subplots(2, 2, figsize=(15, 12))\n",
        "\n",
        "# Gráfico 1: Histograma de HP\n",
        "axes[0, 0].hist(pokemon_data['hp'], bins=15, alpha=0.7, color='skyblue')\n",
        "axes[0, 0].set_title('Distribuição de HP')\n",
        "axes[0, 0].set_xlabel('HP')\n",
        "axes[0, 0].set_ylabel('Frequência')\n",
        "\n",
        "# Gráfico 2: Histograma de Attack\n",
        "axes[0, 1].hist(pokemon_data['attack'], bins=15, alpha=0.7, color='lightcoral')\n",
        "axes[0, 1].set_title('Distribuição de Attack')\n",
        "axes[0, 1].set_xlabel('Attack')\n",
        "axes[0, 1].set_ylabel('Frequência')\n",
        "\n",
        "# Gráfico 3: Histograma de Defense\n",
        "axes[1, 0].hist(pokemon_data['defense'], bins=15, alpha=0.7, color='lightgreen')\n",
        "axes[1, 0].set_title('Distribuição de Defense')\n",
        "axes[1, 0].set_xlabel('Defense')\n",
        "axes[1, 0].set_ylabel('Frequência')\n",
        "\n",
        "# Gráfico 4: Histograma de Speed\n",
        "axes[1, 1].hist(pokemon_data['speed'], bins=15, alpha=0.7, color='gold')\n",
        "axes[1, 1].set_title('Distribuição de Speed')\n",
        "axes[1, 1].set_xlabel('Speed')\n",
        "axes[1, 1].set_ylabel('Frequência')\n",
        "\n",
        "plt.suptitle('Distribuições das Estatísticas dos Pokémon', fontsize=16)\n",
        "plt.tight_layout()\n",
        "plt.show()"
      ]
    },
    {
      "cell_type": "markdown",
      "metadata": {},
      "source": [
        "## 3️⃣8️⃣ Pergunta 38: Crie função resumo_variavel()\n",
        "\n",
        "A função deve:\n",
        "- Receber um dataframe, nome de coluna numérica e parâmetro plot=True\n",
        "- Retornar resumo estatístico (mínimo, máximo, média, mediana, desvio padrão)\n",
        "- Se plot=True, exibir histograma usando matplotlib"
      ]
    },
    {
      "cell_type": "code",
      "execution_count": null,
      "metadata": {},
      "outputs": [],
      "source": [
        "def resumo_variavel(dataframe, coluna, plot=True):\n",
        "    \"\"\"\n",
        "    Função para resumir uma variável numérica\n",
        "    \n",
        "    Parâmetros:\n",
        "    dataframe: DataFrame do pandas\n",
        "    coluna: nome da coluna numérica\n",
        "    plot: se True, exibe histograma\n",
        "    \n",
        "    Retorna:\n",
        "    dicionário com estatísticas descritivas\n",
        "    \"\"\"\n",
        "    # Calcular estatísticas\n",
        "    stats = {\n",
        "        'mínimo': dataframe[coluna].min(),\n",
        "        'máximo': dataframe[coluna].max(),\n",
        "        'média': dataframe[coluna].mean(),\n",
        "        'mediana': dataframe[coluna].median(),\n",
        "        'desvio_padrão': dataframe[coluna].std()\n",
        "    }\n",
        "    \n",
        "    # Exibir resumo\n",
        "    print(f\"📊 Resumo da variável '{coluna}':\")\n",
        "    for stat, value in stats.items():\n",
        "        print(f\"{stat.capitalize()}: {value:.2f}\")\n",
        "    \n",
        "    # Plotar histograma se solicitado\n",
        "    if plot:\n",
        "        plt.figure(figsize=(10, 6))\n",
        "        plt.hist(dataframe[coluna], bins=20, alpha=0.7, edgecolor='black')\n",
        "        plt.xlabel(coluna)\n",
        "        plt.ylabel('Frequência')\n",
        "        plt.title(f'Histograma da variável {coluna}')\n",
        "        plt.grid(True, alpha=0.3)\n",
        "        plt.show()\n",
        "    \n",
        "    return stats\n",
        "\n",
        "# Testar a função\n",
        "print(\"🧪 Testando função resumo_variavel():\")\n",
        "resumo_variavel(pokemon_data, 'total', plot=True)"
      ]
    },
    {
      "cell_type": "markdown",
      "metadata": {},
      "source": [
        "## 3️⃣9️⃣ Pergunta 39: Pipeline com operador pipe (%>%)\n",
        "\n",
        "Pipeline deve:\n",
        "- Selecionar três colunas: duas numéricas e uma categórica\n",
        "- Filtrar linhas sem valores ausentes\n",
        "- Criar nova coluna (razão entre duas numéricas)\n",
        "- Agrupar pela variável categórica\n",
        "- Calcular média, mediana e desvio padrão por grupo\n",
        "- Reorganizar em formato largo\n",
        "- Ordenar pela média (decrescente)"
      ]
    },
    {
      "cell_type": "code",
      "execution_count": null,
      "metadata": {},
      "outputs": [],
      "source": [
        "# Pipeline completo\n",
        "pipeline_completo = (pokemon_data\n",
        "    .loc[:, ['name', 'attack', 'sp_attack', 'type1']]  # Selecionar 3 colunas\n",
        "    .dropna()  # Filtrar valores ausentes\n",
        "    .assign(attack_ratio=lambda x: x['attack'] / x['sp_attack'])  # Nova coluna\n",
        "    .groupby('type1')['attack_ratio']  # Agrupar\n",
        "    .agg(['mean', 'median', 'std'])  # Calcular estatísticas\n",
        "    .round(3)  # Arredondar\n",
        "    .sort_values('mean', ascending=False)  # Ordenar\n",
        ")\n",
        "\n",
        "print(\"🔄 Resultado do pipeline completo:\")\n",
        "print(pipeline_completo.head(10))"
      ]
    },
    {
      "cell_type": "markdown",
      "metadata": {},
      "source": [
        "## 4️⃣0️⃣ Pergunta 40: Pipeline de processamento\n",
        "\n",
        "Pipeline deve:\n",
        "- Selecionar todas as colunas numéricas\n",
        "- Substituir valores ausentes por 0\n",
        "- Criar coluna categórica baseada em condição\n",
        "- Agrupar pela nova coluna categórica\n",
        "- Calcular média, mediana e máximo de todas as numéricas\n",
        "- Ordenar pela média de uma coluna escolhida"
      ]
    },
    {
      "cell_type": "code",
      "execution_count": null,
      "metadata": {},
      "outputs": [],
      "source": [
        "# Pipeline de processamento\n",
        "colunas_numericas = ['hp', 'attack', 'defense', 'sp_attack', 'sp_defense', 'speed', 'total']\n",
        "\n",
        "pipeline_processamento = (pokemon_data\n",
        "    .loc[:, colunas_numericas]  # Selecionar colunas numéricas\n",
        "    .fillna(0)  # Substituir valores ausentes por 0\n",
        "    .assign(power_level=lambda x: np.where(x['total'] > x['total'].mean(), 'Alto', 'Baixo'))  # Nova coluna categórica\n",
        "    .groupby('power_level')  # Agrupar\n",
        "    .agg(['mean', 'median', 'max'])  # Calcular estatísticas\n",
        "    .round(2)  # Arredondar\n",
        "    .sort_values(('total', 'mean'), ascending=False)  # Ordenar pela média de total\n",
        ")\n",
        "\n",
        "print(\"🔄 Resultado do pipeline de processamento:\")\n",
        "print(pipeline_processamento)"
      ]
    },
    {
      "cell_type": "markdown",
      "metadata": {},
      "source": [
        "## 4️⃣1️⃣ Pergunta 41: Salvar pipeline como função\n",
        "\n",
        "a. Salvar pipeline como função em arquivo separado\n",
        "b. Carregar função do arquivo\n",
        "c. Passar dataset como argumento e gerar dataset final processado"
      ]
    },
    {
      "cell_type": "code",
      "execution_count": null,
      "metadata": {},
      "outputs": [],
      "source": [
        "# Criar arquivo com função do pipeline\n",
        "pipeline_code = '''\n",
        "import pandas as pd\n",
        "import numpy as np\n",
        "\n",
        "def meu_pipeline(dataframe):\n",
        "    \"\"\"\n",
        "    Pipeline de processamento de dados Pokémon\n",
        "    \n",
        "    Parâmetros:\n",
        "    dataframe: DataFrame do pandas\n",
        "    \n",
        "    Retorna:\n",
        "    DataFrame processado\n",
        "    \"\"\"\n",
        "    colunas_numericas = ['hp', 'attack', 'defense', 'sp_attack', 'sp_defense', 'speed', 'total']\n",
        "    \n",
        "    resultado = (dataframe\n",
        "        .loc[:, colunas_numericas]\n",
        "        .fillna(0)\n",
        "        .assign(power_level=lambda x: np.where(x['total'] > x['total'].mean(), 'Alto', 'Baixo'))\n",
        "        .groupby('power_level')\n",
        "        .agg(['mean', 'median', 'max'])\n",
        "        .round(2)\n",
        "        .sort_values(('total', 'mean'), ascending=False)\n",
        "    )\n",
        "    \n",
        "    return resultado\n",
        "'''\n",
        "\n",
        "# Salvar função em arquivo\n",
        "with open('meu_pipeline.py', 'w', encoding='utf-8') as f:\n",
        "    f.write(pipeline_code)\n",
        "\n",
        "print(\"✅ Função salva em 'meu_pipeline.py'\")\n",
        "\n",
        "# Carregar e usar a função\n",
        "import sys\n",
        "sys.path.append('.')\n",
        "from meu_pipeline import meu_pipeline\n",
        "\n",
        "# Aplicar pipeline\n",
        "dataset_final = meu_pipeline(pokemon_data)\n",
        "print(\"\\n🔄 Dataset final processado:\")\n",
        "print(dataset_final)"
      ]
    },
    {
      "cell_type": "markdown",
      "metadata": {},
      "source": [
        "## 2️⃣1️⃣ Pergunta 21: Resuma dados de uma coluna numérica usando summarise()"
      ]
    },
    {
      "cell_type": "code",
      "execution_count": null,
      "metadata": {},
      "outputs": [],
      "source": [
        "# Resumo estatístico da coluna 'total'\n",
        "resumo_total = pokemon_data['total'].describe()\n",
        "print(\"📊 Resumo estatístico da coluna 'total':\")\n",
        "print(resumo_total)"
      ]
    },
    {
      "cell_type": "markdown",
      "metadata": {},
      "source": [
        "## 2️⃣2️⃣ Pergunta 22: Agrupe dados por uma variável categórica"
      ]
    },
    {
      "cell_type": "code",
      "execution_count": null,
      "metadata": {},
      "outputs": [],
      "source": [
        "# Agrupar por tipo primário\n",
        "grupo_tipo = pokemon_data.groupby('type1')\n",
        "print(\"📊 Dados agrupados por tipo primário:\")\n",
        "print(f\"Número de grupos: {len(grupo_tipo)}\")\n",
        "print(\"\\nTipos únicos:\")\n",
        "print(list(grupo_tipo.groups.keys()))"
      ]
    },
    {
      "cell_type": "markdown",
      "metadata": {},
      "source": [
        "## 2️⃣3️⃣ Pergunta 23: Combine group_by() e summarise() para calcular média por grupo"
      ]
    },
    {
      "cell_type": "code",
      "execution_count": null,
      "metadata": {},
      "outputs": [],
      "source": [
        "# Média de total por tipo primário\n",
        "media_por_tipo = pokemon_data.groupby('type1')['total'].mean().sort_values(ascending=False)\n",
        "print(\"📊 Média de total por tipo primário:\")\n",
        "print(media_por_tipo.head(10))"
      ]
    },
    {
      "cell_type": "markdown",
      "metadata": {},
      "source": [
        "## 2️⃣4️⃣ Pergunta 24: Use pivot_longer() para transformar colunas em linhas"
      ]
    },
    {
      "cell_type": "code",
      "execution_count": null,
      "metadata": {},
      "outputs": [],
      "source": [
        "# Transformar colunas de estatísticas em linhas\n",
        "stats_cols = ['hp', 'attack', 'defense', 'sp_attack', 'sp_defense', 'speed']\n",
        "pokemon_long = pokemon_data.melt(\n",
        "    id_vars=['name', 'type1'],\n",
        "    value_vars=stats_cols,\n",
        "    var_name='statistic',\n",
        "    value_name='value'\n",
        ")\n",
        "print(\"📊 Dados transformados (wide to long):\")\n",
        "print(f\"Dimensões: {pokemon_long.shape}\")\n",
        "pokemon_long.head(10)"
      ]
    },
    {
      "cell_type": "markdown",
      "metadata": {},
      "source": [
        "## 2️⃣5️⃣ Pergunta 25: Use pipeline para selecionar, filtrar e ordenar"
      ]
    },
    {
      "cell_type": "code",
      "execution_count": null,
      "metadata": {},
      "outputs": [],
      "source": [
        "# Pipeline: selecionar, filtrar e ordenar\n",
        "pipeline_result = (pokemon_data\n",
        "    .loc[:, ['name', 'type1', 'total']]  # Selecionar colunas\n",
        "    .query('total > 500')  # Filtrar\n",
        "    .sort_values('total', ascending=False)  # Ordenar\n",
        ")\n",
        "print(\"🔄 Resultado do pipeline:\")\n",
        "print(f\"Pokémon com total > 500: {len(pipeline_result)}\")\n",
        "pipeline_result.head(10)"
      ]
    },
    {
      "cell_type": "markdown",
      "metadata": {},
      "source": [
        "## 2️⃣6️⃣ Pergunta 26: Use pivot_wider() para transformar linhas em colunas"
      ]
    },
    {
      "cell_type": "code",
      "execution_count": null,
      "metadata": {},
      "outputs": [],
      "source": [
        "# Transformar long para wide\n",
        "pokemon_wide = pokemon_long.pivot_table(\n",
        "    index='name',\n",
        "    columns='statistic',\n",
        "    values='value',\n",
        "    fill_value=0\n",
        ").reset_index()\n",
        "print(\"📊 Dados transformados (long to wide):\")\n",
        "print(f\"Dimensões: {pokemon_wide.shape}\")\n",
        "pokemon_wide.head()"
      ]
    },
    {
      "cell_type": "markdown",
      "metadata": {},
      "source": [
        "## 2️⃣7️⃣ Pergunta 27: Aplique drop_na() para remover valores ausentes"
      ]
    },
    {
      "cell_type": "code",
      "execution_count": null,
      "metadata": {},
      "outputs": [],
      "source": [
        "# Remover linhas com valores ausentes\n",
        "pokemon_sem_na = pokemon_data.dropna()\n",
        "print(f\"📊 Linhas originais: {len(pokemon_data)}\")\n",
        "print(f\"📊 Linhas após drop_na(): {len(pokemon_sem_na)}\")\n",
        "print(f\"📊 Valores ausentes removidos: {len(pokemon_data) - len(pokemon_sem_na)}\")"
      ]
    },
    {
      "cell_type": "markdown",
      "metadata": {},
      "source": [
        "## 2️⃣8️⃣ Pergunta 28: Substitua valores ausentes por 0 em coluna numérica"
      ]
    },
    {
      "cell_type": "code",
      "execution_count": null,
      "metadata": {},
      "outputs": [],
      "source": [
        "# Substituir valores ausentes por 0\n",
        "pokemon_data_filled = pokemon_data.copy()\n",
        "pokemon_data_filled['type2'] = pokemon_data_filled['type2'].fillna('None')\n",
        "print(\"✅ Valores ausentes em 'type2' substituídos por 'None'\")\n",
        "print(f\"📊 Valores únicos em type2: {pokemon_data_filled['type2'].nunique()}\")"
      ]
    },
    {
      "cell_type": "markdown",
      "metadata": {},
      "source": [
        "## 2️⃣9️⃣ Pergunta 29: Crie gráfico de dispersão com duas variáveis numéricas"
      ]
    },
    {
      "cell_type": "code",
      "execution_count": null,
      "metadata": {},
      "outputs": [],
      "source": [
        "# Gráfico de dispersão: attack vs sp_attack\n",
        "plt.figure(figsize=(10, 6))\n",
        "plt.scatter(pokemon_data['attack'], pokemon_data['sp_attack'], alpha=0.6)\n",
        "plt.xlabel('Attack')\n",
        "plt.ylabel('Special Attack')\n",
        "plt.title('Gráfico de Dispersão: Attack vs Special Attack')\n",
        "plt.grid(True, alpha=0.3)\n",
        "plt.show()"
      ]
    },
    {
      "cell_type": "markdown",
      "metadata": {},
      "source": [
        "## 3️⃣0️⃣ Pergunta 30: Crie gráfico de barras de uma variável categórica"
      ]
    },
    {
      "cell_type": "code",
      "execution_count": null,
      "metadata": {},
      "outputs": [],
      "source": [
        "# Gráfico de barras: contagem por tipo primário\n",
        "plt.figure(figsize=(12, 6))\n",
        "pokemon_data['type1'].value_counts().plot(kind='bar')\n",
        "plt.xlabel('Tipo Primário')\n",
        "plt.ylabel('Quantidade')\n",
        "plt.title('Distribuição de Pokémon por Tipo Primário')\n",
        "plt.xticks(rotation=45)\n",
        "plt.tight_layout()\n",
        "plt.show()"
      ]
    },
    {
      "cell_type": "markdown",
      "metadata": {},
      "source": [
        "## 3️⃣1️⃣ Pergunta 31: Construa histograma de uma variável numérica"
      ]
    },
    {
      "cell_type": "code",
      "execution_count": null,
      "metadata": {},
      "outputs": [],
      "source": [
        "# Histograma da coluna 'total'\n",
        "plt.figure(figsize=(10, 6))\n",
        "plt.hist(pokemon_data['total'], bins=20, alpha=0.7, edgecolor='black')\n",
        "plt.xlabel('Total de Estatísticas')\n",
        "plt.ylabel('Frequência')\n",
        "plt.title('Distribuição do Total de Estatísticas dos Pokémon')\n",
        "plt.grid(True, alpha=0.3)\n",
        "plt.show()"
      ]
    },
    {
      "cell_type": "markdown",
      "metadata": {},
      "source": [
        "## 3️⃣2️⃣ Pergunta 32: Crie gráfico de linha para evolução de variável ao longo do tempo"
      ]
    },
    {
      "cell_type": "code",
      "execution_count": null,
      "metadata": {},
      "outputs": [],
      "source": [
        "# Gráfico de linha: evolução do total por ID (simulando tempo)\n",
        "plt.figure(figsize=(12, 6))\n",
        "pokemon_ordenado = pokemon_data.sort_values('id')\n",
        "plt.plot(pokemon_ordenado['id'], pokemon_ordenado['total'], linewidth=2)\n",
        "plt.xlabel('ID do Pokémon')\n",
        "plt.ylabel('Total de Estatísticas')\n",
        "plt.title('Evolução do Total de Estatísticas por ID')\n",
        "plt.grid(True, alpha=0.3)\n",
        "plt.show()"
      ]
    },
    {
      "cell_type": "markdown",
      "metadata": {},
      "source": [
        "## 3️⃣3️⃣ Pergunta 33: Adicione linha de tendência a gráfico de dispersão"
      ]
    },
    {
      "cell_type": "code",
      "execution_count": null,
      "metadata": {},
      "outputs": [],
      "source": [
        "# Gráfico de dispersão com linha de tendência\n",
        "plt.figure(figsize=(10, 6))\n",
        "plt.scatter(pokemon_data['attack'], pokemon_data['sp_attack'], alpha=0.6)\n",
        "\n",
        "# Adicionar linha de tendência\n",
        "z = np.polyfit(pokemon_data['attack'], pokemon_data['sp_attack'], 1)\n",
        "p = np.poly1d(z)\n",
        "plt.plot(pokemon_data['attack'], p(pokemon_data['attack']), \"r--\", alpha=0.8)\n",
        "\n",
        "plt.xlabel('Attack')\n",
        "plt.ylabel('Special Attack')\n",
        "plt.title('Attack vs Special Attack com Linha de Tendência')\n",
        "plt.grid(True, alpha=0.3)\n",
        "plt.show()"
      ]
    },
    {
      "cell_type": "markdown",
      "metadata": {},
      "source": [
        "## 3️⃣4️⃣ Pergunta 34: Crie boxplot para comparar distribuição entre categorias"
      ]
    },
    {
      "cell_type": "code",
      "execution_count": null,
      "metadata": {},
      "outputs": [],
      "source": [
        "# Boxplot: total por tipo primário\n",
        "plt.figure(figsize=(14, 8))\n",
        "pokemon_data.boxplot(column='total', by='type1', ax=plt.gca())\n",
        "plt.xlabel('Tipo Primário')\n",
        "plt.ylabel('Total de Estatísticas')\n",
        "plt.title('Distribuição do Total por Tipo Primário')\n",
        "plt.xticks(rotation=45)\n",
        "plt.tight_layout()\n",
        "plt.show()"
      ]
    },
    {
      "cell_type": "markdown",
      "metadata": {},
      "source": [
        "## 3️⃣5️⃣ Pergunta 35: Personalize gráfico com título, legenda e rótulos"
      ]
    },
    {
      "cell_type": "code",
      "execution_count": null,
      "metadata": {},
      "outputs": [],
      "source": [
        "# Gráfico personalizado\n",
        "plt.figure(figsize=(12, 8))\n",
        "\n",
        "# Dados para o gráfico\n",
        "tipos = pokemon_data['type1'].value_counts().head(8)\n",
        "cores = plt.cm.Set3(np.linspace(0, 1, len(tipos)))\n",
        "\n",
        "bars = plt.bar(range(len(tipos)), tipos.values, color=cores)\n",
        "\n",
        "# Personalização\n",
        "plt.title('Top 8 Tipos de Pokémon por Quantidade', fontsize=16, fontweight='bold')\n",
        "plt.xlabel('Tipo Primário', fontsize=12)\n",
        "plt.ylabel('Número de Pokémon', fontsize=12)\n",
        "plt.xticks(range(len(tipos)), tipos.index, rotation=45)\n",
        "\n",
        "# Adicionar valores nas barras\n",
        "for i, bar in enumerate(bars):\n",
        "    height = bar.get_height()\n",
        "    plt.text(bar.get_x() + bar.get_width()/2., height + 0.1,\n",
        "             f'{int(height)}', ha='center', va='bottom')\n",
        "\n",
        "plt.grid(True, alpha=0.3, axis='y')\n",
        "plt.tight_layout()\n",
        "plt.show()"
      ]
    },
    {
      "cell_type": "markdown",
      "metadata": {},
      "source": [
        "## 3️⃣6️⃣ Pergunta 36: Crie mapa de calor com duas variáveis categóricas"
      ]
    },
    {
      "cell_type": "code",
      "execution_count": null,
      "metadata": {},
      "outputs": [],
      "source": [
        "# Mapa de calor: type1 vs type2\n",
        "heatmap_data = pokemon_data.groupby(['type1', 'type2']).size().unstack(fill_value=0)\n",
        "\n",
        "plt.figure(figsize=(14, 10))\n",
        "sns.heatmap(heatmap_data, annot=True, fmt='d', cmap='YlOrRd')\n",
        "plt.title('Mapa de Calor: Combinações de Tipos Primário e Secundário', fontsize=14)\n",
        "plt.xlabel('Tipo Secundário')\n",
        "plt.ylabel('Tipo Primário')\n",
        "plt.tight_layout()\n",
        "plt.show()"
      ]
    },
    {
      "cell_type": "markdown",
      "metadata": {},
      "source": [
        "## 3️⃣7️⃣ Pergunta 37: Combine gráficos usando facet_wrap()"
      ]
    },
    {
      "cell_type": "code",
      "execution_count": null,
      "metadata": {},
      "outputs": [],
      "source": [
        "# Múltiplos gráficos usando subplots\n",
        "fig, axes = plt.subplots(2, 2, figsize=(15, 12))\n",
        "\n",
        "# Gráfico 1: Histograma de HP\n",
        "axes[0, 0].hist(pokemon_data['hp'], bins=15, alpha=0.7, color='skyblue')\n",
        "axes[0, 0].set_title('Distribuição de HP')\n",
        "axes[0, 0].set_xlabel('HP')\n",
        "axes[0, 0].set_ylabel('Frequência')\n",
        "\n",
        "# Gráfico 2: Histograma de Attack\n",
        "axes[0, 1].hist(pokemon_data['attack'], bins=15, alpha=0.7, color='lightcoral')\n",
        "axes[0, 1].set_title('Distribuição de Attack')\n",
        "axes[0, 1].set_xlabel('Attack')\n",
        "axes[0, 1].set_ylabel('Frequência')\n",
        "\n",
        "# Gráfico 3: Histograma de Defense\n",
        "axes[1, 0].hist(pokemon_data['defense'], bins=15, alpha=0.7, color='lightgreen')\n",
        "axes[1, 0].set_title('Distribuição de Defense')\n",
        "axes[1, 0].set_xlabel('Defense')\n",
        "axes[1, 0].set_ylabel('Frequência')\n",
        "\n",
        "# Gráfico 4: Histograma de Speed\n",
        "axes[1, 1].hist(pokemon_data['speed'], bins=15, alpha=0.7, color='gold')\n",
        "axes[1, 1].set_title('Distribuição de Speed')\n",
        "axes[1, 1].set_xlabel('Speed')\n",
        "axes[1, 1].set_ylabel('Frequência')\n",
        "\n",
        "plt.suptitle('Distribuições das Estatísticas dos Pokémon', fontsize=16)\n",
        "plt.tight_layout()\n",
        "plt.show()"
      ]
    },
    {
      "cell_type": "markdown",
      "metadata": {},
      "source": [
        "## 3️⃣8️⃣ Pergunta 38: Crie função resumo_variavel()\n",
        "\n",
        "A função deve:\n",
        "- Receber um dataframe, nome de coluna numérica e parâmetro plot=True\n",
        "- Retornar resumo estatístico (mínimo, máximo, média, mediana, desvio padrão)\n",
        "- Se plot=True, exibir histograma usando matplotlib"
      ]
    },
    {
      "cell_type": "code",
      "execution_count": null,
      "metadata": {},
      "outputs": [],
      "source": [
        "def resumo_variavel(dataframe, coluna, plot=True):\n",
        "    \"\"\"\n",
        "    Função para resumir uma variável numérica\n",
        "    \n",
        "    Parâmetros:\n",
        "    dataframe: DataFrame do pandas\n",
        "    coluna: nome da coluna numérica\n",
        "    plot: se True, exibe histograma\n",
        "    \n",
        "    Retorna:\n",
        "    dicionário com estatísticas descritivas\n",
        "    \"\"\"\n",
        "    # Calcular estatísticas\n",
        "    stats = {\n",
        "        'mínimo': dataframe[coluna].min(),\n",
        "        'máximo': dataframe[coluna].max(),\n",
        "        'média': dataframe[coluna].mean(),\n",
        "        'mediana': dataframe[coluna].median(),\n",
        "        'desvio_padrão': dataframe[coluna].std()\n",
        "    }\n",
        "    \n",
        "    # Exibir resumo\n",
        "    print(f\"📊 Resumo da variável '{coluna}':\")\n",
        "    for stat, value in stats.items():\n",
        "        print(f\"{stat.capitalize()}: {value:.2f}\")\n",
        "    \n",
        "    # Plotar histograma se solicitado\n",
        "    if plot:\n",
        "        plt.figure(figsize=(10, 6))\n",
        "        plt.hist(dataframe[coluna], bins=20, alpha=0.7, edgecolor='black')\n",
        "        plt.xlabel(coluna)\n",
        "        plt.ylabel('Frequência')\n",
        "        plt.title(f'Histograma da variável {coluna}')\n",
        "        plt.grid(True, alpha=0.3)\n",
        "        plt.show()\n",
        "    \n",
        "    return stats\n",
        "\n",
        "# Testar a função\n",
        "print(\"🧪 Testando função resumo_variavel():\")\n",
        "resumo_variavel(pokemon_data, 'total', plot=True)"
      ]
    },
    {
      "cell_type": "markdown",
      "metadata": {},
      "source": [
        "## 3️⃣9️⃣ Pergunta 39: Pipeline com operador pipe (%>%)\n",
        "\n",
        "Pipeline deve:\n",
        "- Selecionar três colunas: duas numéricas e uma categórica\n",
        "- Filtrar linhas sem valores ausentes\n",
        "- Criar nova coluna (razão entre duas numéricas)\n",
        "- Agrupar pela variável categórica\n",
        "- Calcular média, mediana e desvio padrão por grupo\n",
        "- Reorganizar em formato largo\n",
        "- Ordenar pela média (decrescente)"
      ]
    },
    {
      "cell_type": "code",
      "execution_count": null,
      "metadata": {},
      "outputs": [],
      "source": [
        "# Pipeline completo\n",
        "pipeline_completo = (pokemon_data\n",
        "    .loc[:, ['name', 'attack', 'sp_attack', 'type1']]  # Selecionar 3 colunas\n",
        "    .dropna()  # Filtrar valores ausentes\n",
        "    .assign(attack_ratio=lambda x: x['attack'] / x['sp_attack'])  # Nova coluna\n",
        "    .groupby('type1')['attack_ratio']  # Agrupar\n",
        "    .agg(['mean', 'median', 'std'])  # Calcular estatísticas\n",
        "    .round(3)  # Arredondar\n",
        "    .sort_values('mean', ascending=False)  # Ordenar\n",
        ")\n",
        "\n",
        "print(\"🔄 Resultado do pipeline completo:\")\n",
        "print(pipeline_completo.head(10))"
      ]
    },
    {
      "cell_type": "markdown",
      "metadata": {},
      "source": [
        "## 4️⃣0️⃣ Pergunta 40: Pipeline de processamento\n",
        "\n",
        "Pipeline deve:\n",
        "- Selecionar todas as colunas numéricas\n",
        "- Substituir valores ausentes por 0\n",
        "- Criar coluna categórica baseada em condição\n",
        "- Agrupar pela nova coluna categórica\n",
        "- Calcular média, mediana e máximo de todas as numéricas\n",
        "- Ordenar pela média de uma coluna escolhida"
      ]
    },
    {
      "cell_type": "code",
      "execution_count": null,
      "metadata": {},
      "outputs": [],
      "source": [
        "# Pipeline de processamento\n",
        "colunas_numericas = ['hp', 'attack', 'defense', 'sp_attack', 'sp_defense', 'speed', 'total']\n",
        "\n",
        "pipeline_processamento = (pokemon_data\n",
        "    .loc[:, colunas_numericas]  # Selecionar colunas numéricas\n",
        "    .fillna(0)  # Substituir valores ausentes por 0\n",
        "    .assign(power_level=lambda x: np.where(x['total'] > x['total'].mean(), 'Alto', 'Baixo'))  # Nova coluna categórica\n",
        "    .groupby('power_level')  # Agrupar\n",
        "    .agg(['mean', 'median', 'max'])  # Calcular estatísticas\n",
        "    .round(2)  # Arredondar\n",
        "    .sort_values(('total', 'mean'), ascending=False)  # Ordenar pela média de total\n",
        ")\n",
        "\n",
        "print(\"🔄 Resultado do pipeline de processamento:\")\n",
        "print(pipeline_processamento)"
      ]
    },
    {
      "cell_type": "markdown",
      "metadata": {},
      "source": [
        "## 4️⃣1️⃣ Pergunta 41: Salvar pipeline como função\n",
        "\n",
        "a. Salvar pipeline como função em arquivo separado\n",
        "b. Carregar função do arquivo\n",
        "c. Passar dataset como argumento e gerar dataset final processado"
      ]
    },
    {
      "cell_type": "code",
      "execution_count": null,
      "metadata": {},
      "outputs": [],
      "source": [
        "# Criar arquivo com função do pipeline\n",
        "pipeline_code = '''\n",
        "import pandas as pd\n",
        "import numpy as np\n",
        "\n",
        "def meu_pipeline(dataframe):\n",
        "    \"\"\"\n",
        "    Pipeline de processamento de dados Pokémon\n",
        "    \n",
        "    Parâmetros:\n",
        "    dataframe: DataFrame do pandas\n",
        "    \n",
        "    Retorna:\n",
        "    DataFrame processado\n",
        "    \"\"\"\n",
        "    colunas_numericas = ['hp', 'attack', 'defense', 'sp_attack', 'sp_defense', 'speed', 'total']\n",
        "    \n",
        "    resultado = (dataframe\n",
        "        .loc[:, colunas_numericas]\n",
        "        .fillna(0)\n",
        "        .assign(power_level=lambda x: np.where(x['total'] > x['total'].mean(), 'Alto', 'Baixo'))\n",
        "        .groupby('power_level')\n",
        "        .agg(['mean', 'median', 'max'])\n",
        "        .round(2)\n",
        "        .sort_values(('total', 'mean'), ascending=False)\n",
        "    )\n",
        "    \n",
        "    return resultado\n",
        "'''\n",
        "\n",
        "# Salvar função em arquivo\n",
        "with open('meu_pipeline.py', 'w', encoding='utf-8') as f:\n",
        "    f.write(pipeline_code)\n",
        "\n",
        "print(\"✅ Função salva em 'meu_pipeline.py'\")\n",
        "\n",
        "# Carregar e usar a função\n",
        "import sys\n",
        "sys.path.append('.')\n",
        "from meu_pipeline import meu_pipeline\n",
        "\n",
        "# Aplicar pipeline\n",
        "dataset_final = meu_pipeline(pokemon_data)\n",
        "print(\"\\n🔄 Dataset final processado:\")\n",
        "print(dataset_final)"
      ]
    }
  ],
  "metadata": {
    "kernelspec": {
      "display_name": "Python 3",
      "language": "python",
      "name": "python3"
    },
    "language_info": {
      "codemirror_mode": {
        "name": "ipython",
        "version": 3
      },
      "file_extension": ".py",
      "mimetype": "text/x-python",
      "name": "python",
      "nbconvert_exporter": "python",
      "pygments_lexer": "ipython3",
      "version": "3.8.0"
    }
  },
  "nbformat": 4,
  "nbformat_minor": 4
}